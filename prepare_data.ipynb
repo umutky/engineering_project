{
 "cells": [
  {
   "cell_type": "code",
   "execution_count": 1,
   "id": "initial_id",
   "metadata": {
    "collapsed": true,
    "ExecuteTime": {
     "end_time": "2024-03-19T18:20:52.873274Z",
     "start_time": "2024-03-19T18:20:52.870489Z"
    }
   },
   "outputs": [],
   "source": [
    "import pandas as pd\n",
    "import numpy as np"
   ]
  },
  {
   "cell_type": "markdown",
   "source": [
    "# Maltepe Sinir Koordinatlari"
   ],
   "metadata": {
    "collapsed": false
   },
   "id": "c8442cf0639a383f"
  },
  {
   "cell_type": "code",
   "outputs": [],
   "source": [
    "maltepe_sinir_koordinatlar = np.array([[40.95196465 , 29.09488678], [40.97277002 , 29.12621498], [40.97244599 , 29.14938927],\n",
    "                                       [40.98054604 , 29.16217804], [40.97562133 , 29.18380737], [40.98106441 , 29.19788361], [40.97445490 , 29.19960022],\n",
    "                                       [40.97562133 , 29.21230316], [40.97186275 , 29.21333313], [40.96058574 , 29.20715332], [40.94606537 , 29.21590805],\n",
    "                                       [40.92401941 , 29.20543671], [40.92142529 , 29.19977188], [40.91390175 , 29.15737152], [40.91273423 , 29.15891647],\n",
    "                                       [40.91013966 , 29.15119171], [40.91416119 , 29.14672852], [40.91065858 , 29.13883209], [40.90767472 , 29.13969040],\n",
    "                                       [40.90689630 , 29.13814545], [40.91934991 , 29.12750244], [40.91909049 , 29.12321091], [40.93958203 , 29.10673141],\n",
    "                                       [40.94269411 , 29.10741806], [40.95189983 , 29.09523010]])\n",
    "\n",
    "maltepe_sinir_koordinatlar = pd.DataFrame(maltepe_sinir_koordinatlar)\n",
    "maltepe_sinir_koordinatlar.columns = ['latitude', 'longitude']\n",
    "\n",
    "max_longitude = maltepe_sinir_koordinatlar['longitude'].max()\n",
    "min_longitude = maltepe_sinir_koordinatlar['longitude'].min()\n",
    "\n",
    "max_latitude = maltepe_sinir_koordinatlar['latitude'].max()\n",
    "min_latitude = maltepe_sinir_koordinatlar['latitude'].min()"
   ],
   "metadata": {
    "collapsed": false,
    "ExecuteTime": {
     "end_time": "2024-03-19T19:46:30.214067Z",
     "start_time": "2024-03-19T19:46:30.207706Z"
    }
   },
   "id": "a61b703f3c2074f4",
   "execution_count": 142
  },
  {
   "cell_type": "markdown",
   "source": [
    "# Maltepe Duraklar"
   ],
   "metadata": {
    "collapsed": false
   },
   "id": "3d1ca89b7d60964d"
  },
  {
   "cell_type": "code",
   "outputs": [
    {
     "data": {
      "text/plain": "   _id stop_id stop_code            stop_name            stop_desc  \\\n0    1  292235    100001  RIFAT ILGAZ CADDESÝ   direction: AVCILAR   \n1    2  292236    100002  RIFAT ILGAZ CADDESÝ  direction: BOÐAZKÖY   \n2    3  292237    100011            UZUNYAYLA   direction: AVCILAR   \n3    4  292238    100012            UZUNYAYLA  direction: BOÐAZKÖY   \n4    5  292239    100021  OKTAY RIFAT CADDESÝ   direction: AVCILAR   \n\n           stop_lat   stop_lon  location_type  \n0  41.0191700005564  28.684353            0.0  \n1  41.0190470005563  28.684660            0.0  \n2  41.0104540005549  28.688629            0.0  \n3   41.010675000555  28.688751            0.0  \n4  41.0045240005537  28.695276            0.0  ",
      "text/html": "<div>\n<style scoped>\n    .dataframe tbody tr th:only-of-type {\n        vertical-align: middle;\n    }\n\n    .dataframe tbody tr th {\n        vertical-align: top;\n    }\n\n    .dataframe thead th {\n        text-align: right;\n    }\n</style>\n<table border=\"1\" class=\"dataframe\">\n  <thead>\n    <tr style=\"text-align: right;\">\n      <th></th>\n      <th>_id</th>\n      <th>stop_id</th>\n      <th>stop_code</th>\n      <th>stop_name</th>\n      <th>stop_desc</th>\n      <th>stop_lat</th>\n      <th>stop_lon</th>\n      <th>location_type</th>\n    </tr>\n  </thead>\n  <tbody>\n    <tr>\n      <th>0</th>\n      <td>1</td>\n      <td>292235</td>\n      <td>100001</td>\n      <td>RIFAT ILGAZ CADDESÝ</td>\n      <td>direction: AVCILAR</td>\n      <td>41.0191700005564</td>\n      <td>28.684353</td>\n      <td>0.0</td>\n    </tr>\n    <tr>\n      <th>1</th>\n      <td>2</td>\n      <td>292236</td>\n      <td>100002</td>\n      <td>RIFAT ILGAZ CADDESÝ</td>\n      <td>direction: BOÐAZKÖY</td>\n      <td>41.0190470005563</td>\n      <td>28.684660</td>\n      <td>0.0</td>\n    </tr>\n    <tr>\n      <th>2</th>\n      <td>3</td>\n      <td>292237</td>\n      <td>100011</td>\n      <td>UZUNYAYLA</td>\n      <td>direction: AVCILAR</td>\n      <td>41.0104540005549</td>\n      <td>28.688629</td>\n      <td>0.0</td>\n    </tr>\n    <tr>\n      <th>3</th>\n      <td>4</td>\n      <td>292238</td>\n      <td>100012</td>\n      <td>UZUNYAYLA</td>\n      <td>direction: BOÐAZKÖY</td>\n      <td>41.010675000555</td>\n      <td>28.688751</td>\n      <td>0.0</td>\n    </tr>\n    <tr>\n      <th>4</th>\n      <td>5</td>\n      <td>292239</td>\n      <td>100021</td>\n      <td>OKTAY RIFAT CADDESÝ</td>\n      <td>direction: AVCILAR</td>\n      <td>41.0045240005537</td>\n      <td>28.695276</td>\n      <td>0.0</td>\n    </tr>\n  </tbody>\n</table>\n</div>"
     },
     "execution_count": 82,
     "metadata": {},
     "output_type": "execute_result"
    }
   ],
   "source": [
    "duraklar = pd.read_csv('C:/Users/umutk/Documents/derlenecek_Veriler/stops.csv')\n",
    "duraklar.head()"
   ],
   "metadata": {
    "collapsed": false,
    "ExecuteTime": {
     "end_time": "2024-03-19T19:20:44.869337Z",
     "start_time": "2024-03-19T19:20:44.829893Z"
    }
   },
   "id": "bbc3086fb582c6b6",
   "execution_count": 82
  },
  {
   "cell_type": "code",
   "outputs": [],
   "source": [
    "duraklar.dropna(inplace=True)"
   ],
   "metadata": {
    "collapsed": false,
    "ExecuteTime": {
     "end_time": "2024-03-19T19:20:46.579364Z",
     "start_time": "2024-03-19T19:20:46.570561Z"
    }
   },
   "id": "e44453a45d4ce91a",
   "execution_count": 83
  },
  {
   "cell_type": "code",
   "outputs": [
    {
     "name": "stdout",
     "output_type": "stream",
     "text": [
      "(38, 3)\n"
     ]
    },
    {
     "data": {
      "text/plain": "                             stop_name          latitude  longitude\n1290                   MALTEPE CADDESÝ  41.0323910005588  28.918421\n6112                  BAYRAMPAÞA METRO  41.0339590005591  28.921679\n8512  BARBAROS HAYRETTÝNPAÞA ORTAOKULU  40.9501570054771  29.163828\n9392                  YEÞÝLTEPE SÝTESÝ  40.9489790005458  29.161268\n9394           MALTEPE METRO ÝSTASYONU  40.9366150005438  29.139510",
      "text/html": "<div>\n<style scoped>\n    .dataframe tbody tr th:only-of-type {\n        vertical-align: middle;\n    }\n\n    .dataframe tbody tr th {\n        vertical-align: top;\n    }\n\n    .dataframe thead th {\n        text-align: right;\n    }\n</style>\n<table border=\"1\" class=\"dataframe\">\n  <thead>\n    <tr style=\"text-align: right;\">\n      <th></th>\n      <th>stop_name</th>\n      <th>latitude</th>\n      <th>longitude</th>\n    </tr>\n  </thead>\n  <tbody>\n    <tr>\n      <th>1290</th>\n      <td>MALTEPE CADDESÝ</td>\n      <td>41.0323910005588</td>\n      <td>28.918421</td>\n    </tr>\n    <tr>\n      <th>6112</th>\n      <td>BAYRAMPAÞA METRO</td>\n      <td>41.0339590005591</td>\n      <td>28.921679</td>\n    </tr>\n    <tr>\n      <th>8512</th>\n      <td>BARBAROS HAYRETTÝNPAÞA ORTAOKULU</td>\n      <td>40.9501570054771</td>\n      <td>29.163828</td>\n    </tr>\n    <tr>\n      <th>9392</th>\n      <td>YEÞÝLTEPE SÝTESÝ</td>\n      <td>40.9489790005458</td>\n      <td>29.161268</td>\n    </tr>\n    <tr>\n      <th>9394</th>\n      <td>MALTEPE METRO ÝSTASYONU</td>\n      <td>40.9366150005438</td>\n      <td>29.139510</td>\n    </tr>\n  </tbody>\n</table>\n</div>"
     },
     "execution_count": 183,
     "metadata": {},
     "output_type": "execute_result"
    }
   ],
   "source": [
    "maltepe_duraklar = duraklar[duraklar['stop_desc'].str.contains('MALTEPE')].drop(['_id', 'stop_id', 'stop_code', 'stop_desc', 'location_type'], axis=1)\n",
    "maltepe_duraklar.columns = ['stop_name', 'latitude', 'longitude']\n",
    "print(maltepe_duraklar.shape)\n",
    "maltepe_duraklar.head()"
   ],
   "metadata": {
    "collapsed": false,
    "ExecuteTime": {
     "end_time": "2024-03-19T20:31:18.157696Z",
     "start_time": "2024-03-19T20:31:18.144067Z"
    }
   },
   "id": "22c1a0cfbbf7fe00",
   "execution_count": 183
  },
  {
   "cell_type": "code",
   "outputs": [
    {
     "name": "stdout",
     "output_type": "stream",
     "text": [
      "(35, 3)\n"
     ]
    },
    {
     "data": {
      "text/plain": "    stop_name          latitude     longitude\n394   kml_395  40.9748105400001  29.153867436",
      "text/html": "<div>\n<style scoped>\n    .dataframe tbody tr th:only-of-type {\n        vertical-align: middle;\n    }\n\n    .dataframe tbody tr th {\n        vertical-align: top;\n    }\n\n    .dataframe thead th {\n        text-align: right;\n    }\n</style>\n<table border=\"1\" class=\"dataframe\">\n  <thead>\n    <tr style=\"text-align: right;\">\n      <th></th>\n      <th>stop_name</th>\n      <th>latitude</th>\n      <th>longitude</th>\n    </tr>\n  </thead>\n  <tbody>\n    <tr>\n      <th>394</th>\n      <td>kml_395</td>\n      <td>40.9748105400001</td>\n      <td>29.153867436</td>\n    </tr>\n  </tbody>\n</table>\n</div>"
     },
     "execution_count": 190,
     "metadata": {},
     "output_type": "execute_result"
    }
   ],
   "source": [
    "import xml.etree.ElementTree as ET\n",
    "\n",
    "# KML dosyasının yolu\n",
    "kml_file = 'C:/Users/umutk/Documents/derlenecek_Veriler/minibus-duraklar-verisi.kml'\n",
    "\n",
    "# Verileri depolamak için boş listeler oluşturun\n",
    "names = []\n",
    "coordinates = []\n",
    "\n",
    "# KML dosyasını açın\n",
    "tree = ET.parse(kml_file)\n",
    "root = tree.getroot()\n",
    "\n",
    "# KML dosyasındaki verileri işleyin\n",
    "for placemark in root.findall('.//{http://www.opengis.net/kml/2.2}Placemark'):\n",
    "    name = placemark.find('{http://www.opengis.net/kml/2.2}name').text\n",
    "    coord = placemark.find('.//{http://www.opengis.net/kml/2.2}coordinates').text\n",
    "    names.append(name)\n",
    "    coordinates.append(coord)\n",
    "\n",
    "# Verileri DataFrame'e dönüştürün\n",
    "df = pd.DataFrame({'Name': names, 'Coordinates': coordinates})\n",
    "\n",
    "# Koordinatları virgülle ayırarak yeni sütunlara bölün\n",
    "df[['Latitude' , 'Longitude', 'Altitude']] = df['Coordinates'].str.split(',', expand=True)\n",
    "\n",
    "# Gereksiz sütunları kaldırın\n",
    "df.drop(['Altitude' ,'Coordinates'], axis=1, inplace=True)\n",
    "df.columns = ['stop_name', 'longitude', 'latitude']\n",
    "df['longitude'] = df['longitude']\n",
    "df['latitude'] = df['latitude']\n",
    "df.head()\n",
    "\n",
    "maltepe_minibus_durak = df[(df['longitude'].astype(float) > min_longitude) & (df['longitude'].astype(float) < max_longitude) & (df['latitude'].astype(float) > min_latitude) & (df['latitude'].astype(float) < max_latitude)]\n",
    "maltepe_minibus_durak = maltepe_minibus_durak.reindex(columns=['stop_name', 'latitude', 'longitude'])\n",
    "print(maltepe_minibus_durak.shape)\n",
    "maltepe_minibus_durak.head(1)"
   ],
   "metadata": {
    "collapsed": false,
    "ExecuteTime": {
     "end_time": "2024-03-19T20:32:17.651645Z",
     "start_time": "2024-03-19T20:32:17.619448Z"
    }
   },
   "id": "a4fcd0027c30d99e",
   "execution_count": 190
  },
  {
   "cell_type": "code",
   "outputs": [
    {
     "name": "stdout",
     "output_type": "stream",
     "text": [
      "(178, 3)\n"
     ]
    },
    {
     "data": {
      "text/plain": "                          stop_name          latitude  longitude\n0                   MALTEPE CADDESÝ  41.0323910005588  28.918421\n1                  BAYRAMPAÞA METRO  41.0339590005591  28.921679\n2  BARBAROS HAYRETTÝNPAÞA ORTAOKULU  40.9501570054771  29.163828",
      "text/html": "<div>\n<style scoped>\n    .dataframe tbody tr th:only-of-type {\n        vertical-align: middle;\n    }\n\n    .dataframe tbody tr th {\n        vertical-align: top;\n    }\n\n    .dataframe thead th {\n        text-align: right;\n    }\n</style>\n<table border=\"1\" class=\"dataframe\">\n  <thead>\n    <tr style=\"text-align: right;\">\n      <th></th>\n      <th>stop_name</th>\n      <th>latitude</th>\n      <th>longitude</th>\n    </tr>\n  </thead>\n  <tbody>\n    <tr>\n      <th>0</th>\n      <td>MALTEPE CADDESÝ</td>\n      <td>41.0323910005588</td>\n      <td>28.918421</td>\n    </tr>\n    <tr>\n      <th>1</th>\n      <td>BAYRAMPAÞA METRO</td>\n      <td>41.0339590005591</td>\n      <td>28.921679</td>\n    </tr>\n    <tr>\n      <th>2</th>\n      <td>BARBAROS HAYRETTÝNPAÞA ORTAOKULU</td>\n      <td>40.9501570054771</td>\n      <td>29.163828</td>\n    </tr>\n  </tbody>\n</table>\n</div>"
     },
     "execution_count": 191,
     "metadata": {},
     "output_type": "execute_result"
    }
   ],
   "source": [
    "maltepe_duraklar = pd.concat([maltepe_duraklar, maltepe_minibus_durak]).reset_index(drop=True)\n",
    "print(maltepe_duraklar.shape)\n",
    "maltepe_duraklar.head(3)"
   ],
   "metadata": {
    "collapsed": false,
    "ExecuteTime": {
     "end_time": "2024-03-19T20:32:18.357310Z",
     "start_time": "2024-03-19T20:32:18.349726Z"
    }
   },
   "id": "a41d1811bf19437f",
   "execution_count": 191
  },
  {
   "cell_type": "markdown",
   "source": [
    "# Maltepe Akaryakit Istasyonlari"
   ],
   "metadata": {
    "collapsed": false
   },
   "id": "1be95b83998b53e5"
  },
  {
   "cell_type": "code",
   "outputs": [
    {
     "data": {
      "text/plain": "   _id                                                adi  is_nevi  \\\n0    1  GÜNEŞLİ PETROLCÜLÜK GIDA MADDELERİ VE TİCARET ...      2.0   \n1    2                  FULYA AKARYAKIT TİC. VE SAN. A.Ş.      1.0   \n2    3  ÇINAR AKARYAKIT OTOMOTİV İNŞAAT TARIM VE HAYVA...      2.0   \n3    4  SÜRPA YAPI İNŞAAT OFSET MATBAACILIK HİZMETLERİ...      2.0   \n4    5         BİLGİN PETROL ÜRÜN.PAZ.İNŞ.SAN.VE TİC.A.Ş.      2.0   \n\n     is_nevi_tnm  akaryakit_dagitim_sirketi akaryakit_dagitim_sirketi_tnm  \\\n0  Akaryakıt Lpg                       22.0                        KadOil   \n1      Akaryakıt                       10.0                          Opet   \n2  Akaryakıt Lpg                       12.0                  Petrol Ofisi   \n3  Akaryakıt Lpg                       13.0           Shell-Turcas Petrol   \n4  Akaryakıt Lpg                       12.0                  Petrol Ofisi   \n\n   lpg_dagitim_sirketi lpg_dagitim_sirketi_tnm  tesis_turu tesis_turu_tnm  \\\n0                 10.0                   Aygaz           1          Aktif   \n1                  NaN              Bilinmiyor           1          Aktif   \n2                 47.0                   Pogaz           1          Aktif   \n3                 39.0               Shell Gaz           1          Aktif   \n4                 47.0                   Pogaz           1          Aktif   \n\n   ilce_uavt          ilce  mahalle_uavt   mahalle_adi   latitude  longitude  \n0       2004      BAĞCILAR       40155.0        BAĞLAR  28.823000  41.031312  \n1       1183      BEŞİKTAŞ       40221.0     DİKİLİTAŞ  28.999311  41.055087  \n2       1835        PENDİK       40628.0  BAHÇELİEVLER  29.236304  40.886248  \n3       1782  BÜYÜKÇEKMECE       40929.0      KAMİLOBA  28.445831  41.035386  \n4       2050    BAŞAKŞEHİR       40584.0     ŞAHİNTEPE  28.746095  41.063782  ",
      "text/html": "<div>\n<style scoped>\n    .dataframe tbody tr th:only-of-type {\n        vertical-align: middle;\n    }\n\n    .dataframe tbody tr th {\n        vertical-align: top;\n    }\n\n    .dataframe thead th {\n        text-align: right;\n    }\n</style>\n<table border=\"1\" class=\"dataframe\">\n  <thead>\n    <tr style=\"text-align: right;\">\n      <th></th>\n      <th>_id</th>\n      <th>adi</th>\n      <th>is_nevi</th>\n      <th>is_nevi_tnm</th>\n      <th>akaryakit_dagitim_sirketi</th>\n      <th>akaryakit_dagitim_sirketi_tnm</th>\n      <th>lpg_dagitim_sirketi</th>\n      <th>lpg_dagitim_sirketi_tnm</th>\n      <th>tesis_turu</th>\n      <th>tesis_turu_tnm</th>\n      <th>ilce_uavt</th>\n      <th>ilce</th>\n      <th>mahalle_uavt</th>\n      <th>mahalle_adi</th>\n      <th>latitude</th>\n      <th>longitude</th>\n    </tr>\n  </thead>\n  <tbody>\n    <tr>\n      <th>0</th>\n      <td>1</td>\n      <td>GÜNEŞLİ PETROLCÜLÜK GIDA MADDELERİ VE TİCARET ...</td>\n      <td>2.0</td>\n      <td>Akaryakıt Lpg</td>\n      <td>22.0</td>\n      <td>KadOil</td>\n      <td>10.0</td>\n      <td>Aygaz</td>\n      <td>1</td>\n      <td>Aktif</td>\n      <td>2004</td>\n      <td>BAĞCILAR</td>\n      <td>40155.0</td>\n      <td>BAĞLAR</td>\n      <td>28.823000</td>\n      <td>41.031312</td>\n    </tr>\n    <tr>\n      <th>1</th>\n      <td>2</td>\n      <td>FULYA AKARYAKIT TİC. VE SAN. A.Ş.</td>\n      <td>1.0</td>\n      <td>Akaryakıt</td>\n      <td>10.0</td>\n      <td>Opet</td>\n      <td>NaN</td>\n      <td>Bilinmiyor</td>\n      <td>1</td>\n      <td>Aktif</td>\n      <td>1183</td>\n      <td>BEŞİKTAŞ</td>\n      <td>40221.0</td>\n      <td>DİKİLİTAŞ</td>\n      <td>28.999311</td>\n      <td>41.055087</td>\n    </tr>\n    <tr>\n      <th>2</th>\n      <td>3</td>\n      <td>ÇINAR AKARYAKIT OTOMOTİV İNŞAAT TARIM VE HAYVA...</td>\n      <td>2.0</td>\n      <td>Akaryakıt Lpg</td>\n      <td>12.0</td>\n      <td>Petrol Ofisi</td>\n      <td>47.0</td>\n      <td>Pogaz</td>\n      <td>1</td>\n      <td>Aktif</td>\n      <td>1835</td>\n      <td>PENDİK</td>\n      <td>40628.0</td>\n      <td>BAHÇELİEVLER</td>\n      <td>29.236304</td>\n      <td>40.886248</td>\n    </tr>\n    <tr>\n      <th>3</th>\n      <td>4</td>\n      <td>SÜRPA YAPI İNŞAAT OFSET MATBAACILIK HİZMETLERİ...</td>\n      <td>2.0</td>\n      <td>Akaryakıt Lpg</td>\n      <td>13.0</td>\n      <td>Shell-Turcas Petrol</td>\n      <td>39.0</td>\n      <td>Shell Gaz</td>\n      <td>1</td>\n      <td>Aktif</td>\n      <td>1782</td>\n      <td>BÜYÜKÇEKMECE</td>\n      <td>40929.0</td>\n      <td>KAMİLOBA</td>\n      <td>28.445831</td>\n      <td>41.035386</td>\n    </tr>\n    <tr>\n      <th>4</th>\n      <td>5</td>\n      <td>BİLGİN PETROL ÜRÜN.PAZ.İNŞ.SAN.VE TİC.A.Ş.</td>\n      <td>2.0</td>\n      <td>Akaryakıt Lpg</td>\n      <td>12.0</td>\n      <td>Petrol Ofisi</td>\n      <td>47.0</td>\n      <td>Pogaz</td>\n      <td>1</td>\n      <td>Aktif</td>\n      <td>2050</td>\n      <td>BAŞAKŞEHİR</td>\n      <td>40584.0</td>\n      <td>ŞAHİNTEPE</td>\n      <td>28.746095</td>\n      <td>41.063782</td>\n    </tr>\n  </tbody>\n</table>\n</div>"
     },
     "execution_count": 93,
     "metadata": {},
     "output_type": "execute_result"
    }
   ],
   "source": [
    "akaryakit_istasyonlari = pd.read_csv('C:/Users/umutk/Documents/derlenecek_Veriler/akaryakit_istasyonlari.csv')\n",
    "akaryakit_istasyonlari.rename(columns={'longtitude': 'longitude'}, inplace=True)\n",
    "akaryakit_istasyonlari.head()"
   ],
   "metadata": {
    "collapsed": false,
    "ExecuteTime": {
     "end_time": "2024-03-19T19:22:24.555030Z",
     "start_time": "2024-03-19T19:22:24.537045Z"
    }
   },
   "id": "c48a7efb25bcc9bb",
   "execution_count": 93
  },
  {
   "cell_type": "code",
   "outputs": [
    {
     "name": "stdout",
     "output_type": "stream",
     "text": [
      "(18, 2)\n"
     ]
    },
    {
     "data": {
      "text/plain": "     latitude  longitude\n20  40.923445  29.151015\n40  40.929127  29.146179\n66  40.927839  29.133069\n68  40.947768  29.123439\n77  40.937496  29.140928",
      "text/html": "<div>\n<style scoped>\n    .dataframe tbody tr th:only-of-type {\n        vertical-align: middle;\n    }\n\n    .dataframe tbody tr th {\n        vertical-align: top;\n    }\n\n    .dataframe thead th {\n        text-align: right;\n    }\n</style>\n<table border=\"1\" class=\"dataframe\">\n  <thead>\n    <tr style=\"text-align: right;\">\n      <th></th>\n      <th>latitude</th>\n      <th>longitude</th>\n    </tr>\n  </thead>\n  <tbody>\n    <tr>\n      <th>20</th>\n      <td>40.923445</td>\n      <td>29.151015</td>\n    </tr>\n    <tr>\n      <th>40</th>\n      <td>40.929127</td>\n      <td>29.146179</td>\n    </tr>\n    <tr>\n      <th>66</th>\n      <td>40.927839</td>\n      <td>29.133069</td>\n    </tr>\n    <tr>\n      <th>68</th>\n      <td>40.947768</td>\n      <td>29.123439</td>\n    </tr>\n    <tr>\n      <th>77</th>\n      <td>40.937496</td>\n      <td>29.140928</td>\n    </tr>\n  </tbody>\n</table>\n</div>"
     },
     "execution_count": 197,
     "metadata": {},
     "output_type": "execute_result"
    }
   ],
   "source": [
    "maltepe_akaryakit = akaryakit_istasyonlari[akaryakit_istasyonlari['ilce'] =='MALTEPE']\n",
    "maltepe_akaryakit = maltepe_akaryakit[['longitude', 'latitude']]\n",
    "maltepe_akaryakit.columns = ['latitude', 'longitude']\n",
    "print(maltepe_akaryakit.shape)\n",
    "maltepe_akaryakit.head()"
   ],
   "metadata": {
    "collapsed": false,
    "ExecuteTime": {
     "end_time": "2024-03-19T20:44:55.440840Z",
     "start_time": "2024-03-19T20:44:55.431553Z"
    }
   },
   "id": "3eb70a764ef1aad7",
   "execution_count": 197
  },
  {
   "cell_type": "markdown",
   "source": [
    "# Trafik_Yogunluk"
   ],
   "metadata": {
    "collapsed": false
   },
   "id": "e2ab89131df8dd5b"
  },
  {
   "cell_type": "code",
   "outputs": [
    {
     "data": {
      "text/plain": "   _id            date_time  longitude   latitude geohash  minimum_speed  \\\n0    1  2024-02-01 00:00:00  29.273071  41.053162  sxkcd1             54   \n1    2  2024-02-01 00:00:00  28.591919  41.245422  sxk6ds             67   \n2    3  2024-02-01 00:00:00  28.767700  41.009216  sxk3q9              5   \n3    4  2024-02-01 00:00:00  28.778687  41.086121  sxk3wz             13   \n4    5  2024-02-01 00:00:00  28.701782  41.064148  sxk3t5             11   \n\n   maximum_speed  average_speed  number_of_vehicles  \n0            163             84                 203  \n1             71             69                   1  \n2             65             31                  31  \n3            129             56                  21  \n4             73             36                  29  ",
      "text/html": "<div>\n<style scoped>\n    .dataframe tbody tr th:only-of-type {\n        vertical-align: middle;\n    }\n\n    .dataframe tbody tr th {\n        vertical-align: top;\n    }\n\n    .dataframe thead th {\n        text-align: right;\n    }\n</style>\n<table border=\"1\" class=\"dataframe\">\n  <thead>\n    <tr style=\"text-align: right;\">\n      <th></th>\n      <th>_id</th>\n      <th>date_time</th>\n      <th>longitude</th>\n      <th>latitude</th>\n      <th>geohash</th>\n      <th>minimum_speed</th>\n      <th>maximum_speed</th>\n      <th>average_speed</th>\n      <th>number_of_vehicles</th>\n    </tr>\n  </thead>\n  <tbody>\n    <tr>\n      <th>0</th>\n      <td>1</td>\n      <td>2024-02-01 00:00:00</td>\n      <td>29.273071</td>\n      <td>41.053162</td>\n      <td>sxkcd1</td>\n      <td>54</td>\n      <td>163</td>\n      <td>84</td>\n      <td>203</td>\n    </tr>\n    <tr>\n      <th>1</th>\n      <td>2</td>\n      <td>2024-02-01 00:00:00</td>\n      <td>28.591919</td>\n      <td>41.245422</td>\n      <td>sxk6ds</td>\n      <td>67</td>\n      <td>71</td>\n      <td>69</td>\n      <td>1</td>\n    </tr>\n    <tr>\n      <th>2</th>\n      <td>3</td>\n      <td>2024-02-01 00:00:00</td>\n      <td>28.767700</td>\n      <td>41.009216</td>\n      <td>sxk3q9</td>\n      <td>5</td>\n      <td>65</td>\n      <td>31</td>\n      <td>31</td>\n    </tr>\n    <tr>\n      <th>3</th>\n      <td>4</td>\n      <td>2024-02-01 00:00:00</td>\n      <td>28.778687</td>\n      <td>41.086121</td>\n      <td>sxk3wz</td>\n      <td>13</td>\n      <td>129</td>\n      <td>56</td>\n      <td>21</td>\n    </tr>\n    <tr>\n      <th>4</th>\n      <td>5</td>\n      <td>2024-02-01 00:00:00</td>\n      <td>28.701782</td>\n      <td>41.064148</td>\n      <td>sxk3t5</td>\n      <td>11</td>\n      <td>73</td>\n      <td>36</td>\n      <td>29</td>\n    </tr>\n  </tbody>\n</table>\n</div>"
     },
     "execution_count": 143,
     "metadata": {},
     "output_type": "execute_result"
    }
   ],
   "source": [
    "trafik = pd.read_csv('C:/Users/umutk/Documents/derlenecek_Veriler/trafik_yogunluk.csv')\n",
    "trafik.columns = [col.lower() for col in trafik.columns.values]\n",
    "trafik.head()"
   ],
   "metadata": {
    "collapsed": false,
    "ExecuteTime": {
     "end_time": "2024-03-19T19:46:52.001748Z",
     "start_time": "2024-03-19T19:46:50.632341Z"
    }
   },
   "id": "86b83a4126432d2a",
   "execution_count": 143
  },
  {
   "cell_type": "code",
   "outputs": [
    {
     "name": "stdout",
     "output_type": "stream",
     "text": [
      "(72628, 4)\n"
     ]
    },
    {
     "data": {
      "text/plain": "               date_time   latitude  longitude  number_of_vehicles\n9    2024-02-01 00:00:00  40.921326  29.174194                 183\n11   2024-02-01 00:00:00  40.954285  29.108276                  27\n57   2024-02-01 00:00:00  40.965271  29.196167                  37\n106  2024-02-01 00:00:00  40.943298  29.119263                  27\n238  2024-02-01 00:00:00  40.937805  29.108276                   9",
      "text/html": "<div>\n<style scoped>\n    .dataframe tbody tr th:only-of-type {\n        vertical-align: middle;\n    }\n\n    .dataframe tbody tr th {\n        vertical-align: top;\n    }\n\n    .dataframe thead th {\n        text-align: right;\n    }\n</style>\n<table border=\"1\" class=\"dataframe\">\n  <thead>\n    <tr style=\"text-align: right;\">\n      <th></th>\n      <th>date_time</th>\n      <th>latitude</th>\n      <th>longitude</th>\n      <th>number_of_vehicles</th>\n    </tr>\n  </thead>\n  <tbody>\n    <tr>\n      <th>9</th>\n      <td>2024-02-01 00:00:00</td>\n      <td>40.921326</td>\n      <td>29.174194</td>\n      <td>183</td>\n    </tr>\n    <tr>\n      <th>11</th>\n      <td>2024-02-01 00:00:00</td>\n      <td>40.954285</td>\n      <td>29.108276</td>\n      <td>27</td>\n    </tr>\n    <tr>\n      <th>57</th>\n      <td>2024-02-01 00:00:00</td>\n      <td>40.965271</td>\n      <td>29.196167</td>\n      <td>37</td>\n    </tr>\n    <tr>\n      <th>106</th>\n      <td>2024-02-01 00:00:00</td>\n      <td>40.943298</td>\n      <td>29.119263</td>\n      <td>27</td>\n    </tr>\n    <tr>\n      <th>238</th>\n      <td>2024-02-01 00:00:00</td>\n      <td>40.937805</td>\n      <td>29.108276</td>\n      <td>9</td>\n    </tr>\n  </tbody>\n</table>\n</div>"
     },
     "execution_count": 195,
     "metadata": {},
     "output_type": "execute_result"
    }
   ],
   "source": [
    "maltepe_trafik = trafik[(trafik['longitude'] > min_longitude) & (trafik['longitude'] < max_longitude) & (trafik['latitude'] > min_latitude) & ((trafik['latitude'] < max_latitude))]\n",
    "\n",
    "maltepe_trafik = maltepe_trafik[['date_time', 'longitude', 'latitude', 'number_of_vehicles']]\n",
    "maltepe_trafik = maltepe_trafik.reindex(columns=['date_time', 'latitude', 'longitude', 'number_of_vehicles'])\n",
    "print(maltepe_trafik.shape)\n",
    "maltepe_trafik.head()"
   ],
   "metadata": {
    "collapsed": false,
    "ExecuteTime": {
     "end_time": "2024-03-19T20:44:00.899115Z",
     "start_time": "2024-03-19T20:44:00.857196Z"
    }
   },
   "id": "caea125f5500f955",
   "execution_count": 195
  },
  {
   "cell_type": "markdown",
   "source": [
    "# Ispark"
   ],
   "metadata": {
    "collapsed": false
   },
   "id": "5b97c72c3961c1ae"
  },
  {
   "cell_type": "code",
   "outputs": [
    {
     "data": {
      "text/plain": "   parkID                                       parkName      lat      lng  \\\n0    2381             1293 Yavuz Selim Otomatik Otoparkı  41.0233  28.9529   \n1    2866                    15 Temmuz Demokrasi Otogarı  41.0402  28.8942   \n2    3068  15 Temmuz Şehitler Meydanı Zeminaltı Otoparkı  41.0251  29.0911   \n3    2338                                  19 Mayıs Açık  41.0563  28.9941   \n4     786                             19 Mayıs Caddesi 1  40.8795  29.2301   \n\n   capacity  emptyCapacity    workHours        parkType  freeTime    district  \\\n0        60             59      24 Saat  KAPALI OTOPARK        15       FATİH   \n1      1000              0      24 Saat    AÇIK OTOPARK        40  BAYRAMPAŞA   \n2      1029            463      24 Saat  KAPALI OTOPARK        15    ÜMRANİYE   \n3        65              0      24 Saat    AÇIK OTOPARK         0       ŞİŞLİ   \n4        15              4  09:00-18:00        YOL ÜSTÜ        15      PENDİK   \n\n   isOpen  \n0       1  \n1       1  \n2       1  \n3       1  \n4       0  ",
      "text/html": "<div>\n<style scoped>\n    .dataframe tbody tr th:only-of-type {\n        vertical-align: middle;\n    }\n\n    .dataframe tbody tr th {\n        vertical-align: top;\n    }\n\n    .dataframe thead th {\n        text-align: right;\n    }\n</style>\n<table border=\"1\" class=\"dataframe\">\n  <thead>\n    <tr style=\"text-align: right;\">\n      <th></th>\n      <th>parkID</th>\n      <th>parkName</th>\n      <th>lat</th>\n      <th>lng</th>\n      <th>capacity</th>\n      <th>emptyCapacity</th>\n      <th>workHours</th>\n      <th>parkType</th>\n      <th>freeTime</th>\n      <th>district</th>\n      <th>isOpen</th>\n    </tr>\n  </thead>\n  <tbody>\n    <tr>\n      <th>0</th>\n      <td>2381</td>\n      <td>1293 Yavuz Selim Otomatik Otoparkı</td>\n      <td>41.0233</td>\n      <td>28.9529</td>\n      <td>60</td>\n      <td>59</td>\n      <td>24 Saat</td>\n      <td>KAPALI OTOPARK</td>\n      <td>15</td>\n      <td>FATİH</td>\n      <td>1</td>\n    </tr>\n    <tr>\n      <th>1</th>\n      <td>2866</td>\n      <td>15 Temmuz Demokrasi Otogarı</td>\n      <td>41.0402</td>\n      <td>28.8942</td>\n      <td>1000</td>\n      <td>0</td>\n      <td>24 Saat</td>\n      <td>AÇIK OTOPARK</td>\n      <td>40</td>\n      <td>BAYRAMPAŞA</td>\n      <td>1</td>\n    </tr>\n    <tr>\n      <th>2</th>\n      <td>3068</td>\n      <td>15 Temmuz Şehitler Meydanı Zeminaltı Otoparkı</td>\n      <td>41.0251</td>\n      <td>29.0911</td>\n      <td>1029</td>\n      <td>463</td>\n      <td>24 Saat</td>\n      <td>KAPALI OTOPARK</td>\n      <td>15</td>\n      <td>ÜMRANİYE</td>\n      <td>1</td>\n    </tr>\n    <tr>\n      <th>3</th>\n      <td>2338</td>\n      <td>19 Mayıs Açık</td>\n      <td>41.0563</td>\n      <td>28.9941</td>\n      <td>65</td>\n      <td>0</td>\n      <td>24 Saat</td>\n      <td>AÇIK OTOPARK</td>\n      <td>0</td>\n      <td>ŞİŞLİ</td>\n      <td>1</td>\n    </tr>\n    <tr>\n      <th>4</th>\n      <td>786</td>\n      <td>19 Mayıs Caddesi 1</td>\n      <td>40.8795</td>\n      <td>29.2301</td>\n      <td>15</td>\n      <td>4</td>\n      <td>09:00-18:00</td>\n      <td>YOL ÜSTÜ</td>\n      <td>15</td>\n      <td>PENDİK</td>\n      <td>0</td>\n    </tr>\n  </tbody>\n</table>\n</div>"
     },
     "execution_count": 145,
     "metadata": {},
     "output_type": "execute_result"
    }
   ],
   "source": [
    "import pandas as pd\n",
    "import requests\n",
    "\n",
    "# JSON verisini al\n",
    "response = requests.get(\"https://api.ibb.gov.tr/ispark/Park\")\n",
    "otoparklar = response.json()\n",
    "\n",
    "# JSON verisini DataFrame'e dönüştür\n",
    "otoparklar = pd.DataFrame(data)\n",
    "\n",
    "# DataFrame'i görüntüle\n",
    "otoparklar.head()\n"
   ],
   "metadata": {
    "collapsed": false,
    "ExecuteTime": {
     "end_time": "2024-03-19T19:47:07.443226Z",
     "start_time": "2024-03-19T19:47:06.466887Z"
    }
   },
   "id": "c9a94f2176901255",
   "execution_count": 145
  },
  {
   "cell_type": "code",
   "outputs": [
    {
     "name": "stdout",
     "output_type": "stream",
     "text": [
      "(11, 3)\n"
     ]
    },
    {
     "data": {
      "text/plain": "                                          parkName latitude longitude\n316                Gülsuyu Metro Yer Altı Otoparkı  40.9237   29.1548\n317                       Gülsuyu Metro Yol Üstü 1  40.9235   29.1549\n318                       Gülsuyu Metro Yol Üstü 2  40.9234   29.1555\n466  Maltepe Orhangazi Şehir Parkı Açık Otoparkı 1  40.9313   29.1161\n467                       Maltepe Rıhtım Caddesi 1  40.9238   29.1263",
      "text/html": "<div>\n<style scoped>\n    .dataframe tbody tr th:only-of-type {\n        vertical-align: middle;\n    }\n\n    .dataframe tbody tr th {\n        vertical-align: top;\n    }\n\n    .dataframe thead th {\n        text-align: right;\n    }\n</style>\n<table border=\"1\" class=\"dataframe\">\n  <thead>\n    <tr style=\"text-align: right;\">\n      <th></th>\n      <th>parkName</th>\n      <th>latitude</th>\n      <th>longitude</th>\n    </tr>\n  </thead>\n  <tbody>\n    <tr>\n      <th>316</th>\n      <td>Gülsuyu Metro Yer Altı Otoparkı</td>\n      <td>40.9237</td>\n      <td>29.1548</td>\n    </tr>\n    <tr>\n      <th>317</th>\n      <td>Gülsuyu Metro Yol Üstü 1</td>\n      <td>40.9235</td>\n      <td>29.1549</td>\n    </tr>\n    <tr>\n      <th>318</th>\n      <td>Gülsuyu Metro Yol Üstü 2</td>\n      <td>40.9234</td>\n      <td>29.1555</td>\n    </tr>\n    <tr>\n      <th>466</th>\n      <td>Maltepe Orhangazi Şehir Parkı Açık Otoparkı 1</td>\n      <td>40.9313</td>\n      <td>29.1161</td>\n    </tr>\n    <tr>\n      <th>467</th>\n      <td>Maltepe Rıhtım Caddesi 1</td>\n      <td>40.9238</td>\n      <td>29.1263</td>\n    </tr>\n  </tbody>\n</table>\n</div>"
     },
     "execution_count": 147,
     "metadata": {},
     "output_type": "execute_result"
    }
   ],
   "source": [
    "maltepe_otopark = otoparklar[otoparklar['district'] == 'MALTEPE']\n",
    "maltepe_otopark = maltepe_otopark[['parkName', 'lat', 'lng']]\n",
    "maltepe_otopark.columns = ['parkName', 'latitude', 'longitude']\n",
    "print(maltepe_otopark.shape)\n",
    "maltepe_otopark.head()"
   ],
   "metadata": {
    "collapsed": false,
    "ExecuteTime": {
     "end_time": "2024-03-19T19:47:56.213806Z",
     "start_time": "2024-03-19T19:47:56.204203Z"
    }
   },
   "id": "2c2ae9005af869b7",
   "execution_count": 147
  },
  {
   "cell_type": "markdown",
   "source": [
    "# ATM Banka"
   ],
   "metadata": {
    "collapsed": false
   },
   "id": "a7d101120d482b36"
  },
  {
   "cell_type": "code",
   "outputs": [
    {
     "name": "stdout",
     "output_type": "stream",
     "text": [
      "(270, 5)\n"
     ]
    },
    {
     "data": {
      "text/plain": "         il     ilce                                          banka adi  \\\n0  İstanbul  Maltepe                        Akbank T.A.S. Kartal Toyota   \n1  İstanbul  Maltepe   Türkiye Garanti Bankasi A.S. Fatih Ünv.Hastanesi   \n2  İstanbul  Maltepe  Türkiye Cumhuriyeti Ziraat Bankasi A.S. Sarayl...   \n3  İstanbul  Maltepe                     Akbank T.A.S. Cevizli Subesi 2   \n4  İstanbul  Maltepe  Türkiye Is Bankasi A.S. Maltepe Sahsuvaroglu Opet   \n\n    latitude  longitude  \n0  40.905355  29.213899  \n1  40.910114  29.137978  \n2  40.911130  29.168540  \n3  40.912030  29.154030  \n4  40.916313  29.146736  ",
      "text/html": "<div>\n<style scoped>\n    .dataframe tbody tr th:only-of-type {\n        vertical-align: middle;\n    }\n\n    .dataframe tbody tr th {\n        vertical-align: top;\n    }\n\n    .dataframe thead th {\n        text-align: right;\n    }\n</style>\n<table border=\"1\" class=\"dataframe\">\n  <thead>\n    <tr style=\"text-align: right;\">\n      <th></th>\n      <th>il</th>\n      <th>ilce</th>\n      <th>banka adi</th>\n      <th>latitude</th>\n      <th>longitude</th>\n    </tr>\n  </thead>\n  <tbody>\n    <tr>\n      <th>0</th>\n      <td>İstanbul</td>\n      <td>Maltepe</td>\n      <td>Akbank T.A.S. Kartal Toyota</td>\n      <td>40.905355</td>\n      <td>29.213899</td>\n    </tr>\n    <tr>\n      <th>1</th>\n      <td>İstanbul</td>\n      <td>Maltepe</td>\n      <td>Türkiye Garanti Bankasi A.S. Fatih Ünv.Hastanesi</td>\n      <td>40.910114</td>\n      <td>29.137978</td>\n    </tr>\n    <tr>\n      <th>2</th>\n      <td>İstanbul</td>\n      <td>Maltepe</td>\n      <td>Türkiye Cumhuriyeti Ziraat Bankasi A.S. Sarayl...</td>\n      <td>40.911130</td>\n      <td>29.168540</td>\n    </tr>\n    <tr>\n      <th>3</th>\n      <td>İstanbul</td>\n      <td>Maltepe</td>\n      <td>Akbank T.A.S. Cevizli Subesi 2</td>\n      <td>40.912030</td>\n      <td>29.154030</td>\n    </tr>\n    <tr>\n      <th>4</th>\n      <td>İstanbul</td>\n      <td>Maltepe</td>\n      <td>Türkiye Is Bankasi A.S. Maltepe Sahsuvaroglu Opet</td>\n      <td>40.916313</td>\n      <td>29.146736</td>\n    </tr>\n  </tbody>\n</table>\n</div>"
     },
     "execution_count": 194,
     "metadata": {},
     "output_type": "execute_result"
    }
   ],
   "source": [
    "import pandas as pd\n",
    "\n",
    "# Excel dosyasının yolu\n",
    "excel_file = 'C:/Users/umutk/Documents/derlenecek_Veriler/poi.xlsx'\n",
    "\n",
    "# İstenen sayfanın adı veya indeksi\n",
    "sheet_name = 'ATM'  # veya 0, 1, 2, ...\n",
    "\n",
    "# Excel dosyasındaki belirli sayfayı DataFrame olarak alın\n",
    "maltepe_banka_atm = pd.read_excel(excel_file, sheet_name=sheet_name)\n",
    "\n",
    "# DataFrame'i görüntüleme\n",
    "print(maltepe_banka_atm.shape)\n",
    "maltepe_banka_atm.head()"
   ],
   "metadata": {
    "collapsed": false,
    "ExecuteTime": {
     "end_time": "2024-03-19T20:40:30.370622Z",
     "start_time": "2024-03-19T20:40:30.325174Z"
    }
   },
   "id": "2ca06910b76e7882",
   "execution_count": 194
  },
  {
   "cell_type": "markdown",
   "source": [
    "# Magazalar"
   ],
   "metadata": {
    "collapsed": false
   },
   "id": "b689d352c667759e"
  },
  {
   "cell_type": "code",
   "outputs": [],
   "source": [
    "# Coordinates of Migros stores.\n",
    "migros_coordinates = [\n",
    "    {\"name\": \"KÜÇÜKYALI HILLTOWN MACROCENTER\", \"coordinate\": [40.952686658232295, 29.121208035372987]},\n",
    "    {\"name\": \"PIAZZA MALTEPE MACROCENTER\", \"coordinate\": [40.92128470164432, 29.165538126387283]},\n",
    "    {\"name\": \"ASKERİ LOJ. KÜÇÜKYALI İST M\", \"coordinate\": [40.95468563836487, 29.123821421100054]},\n",
    "    {\"name\": \"IRMAKLAR SK MALTEPE İSTANBUL M\", \"coordinate\": [40.94383179920128, 29.136009205869826]},\n",
    "    {\"name\": \"NISH ADALAR MALTEPE MM MİGROS\", \"coordinate\": [40.94870794538319, 29.160562955773933]},\n",
    "    {\"name\": \"GİRNE MAH MALTEPE İST MİNİGROS\", \"coordinate\": [40.938631772931316, 29.13806174161115]},\n",
    "    {\"name\": \"GÜLYOLU MALTEPE İST MİNİGROS\", \"coordinate\": [40.92802770391542, 29.1389340834801]},\n",
    "    {\"name\": \"KADİR HAS CD. İST MİNİGROS\", \"coordinate\": [40.9447965345502, 29.117321250036145]},\n",
    "    {\"name\": \"MENEKŞELİ SK. MALTEPE MİNİGROS\", \"coordinate\": [40.925836713623404, 29.130363152522857]},\n",
    "    {\"name\": \"MALTEPE YALI CAD..MACROKIOSK\", \"coordinate\": [40.918000068975864, 29.136015788077426]},\n",
    "    {\"name\": \"RİTİM AVM MALTEPE İSTANBUL MM\", \"coordinate\": [40.92181694509281, 29.15815086660945]},\n",
    "    {\"name\": \"TUGAYYOLU MALTEPE MM MİGROS\", \"coordinate\": [40.917428404776196, 29.159940216855254]},\n",
    "    {\"name\": \"OFİSPARK MALTEPE MM MİGROS\", 'coordinate': [40.93799450691945, 29.135251567008822]},\n",
    "    {\"name\": \"MESA İSTANBUL MALTEPE MM\", \"coordinate\": [40.93191548340477, 29.127265637593823]},\n",
    "    {\"name\": \"NARCITY MALTEPE İSTANBUL M\", \"coordinate\": [40.95487209668625, 29.167318865563793]},\n",
    "    {\"name\": \"BAĞLARBAŞI MALTEPE M MİGROS\", \"coordinate\": [40.92381052092096, 29.13449886571158]},\n",
    "    {\"name\": \"EVİNPARK MALTEPE M MİGROS\", \"coordinate\": [40.936596283607656, 29.132266250105125]},\n",
    "    {\"name\": \"MJET MALTEPE YALI MAHALLESİ\", \"coordinate\": [40.9185294335012, 29.133939204295885]},\n",
    "    {\"name\": \"MJET ZÜMRÜTEVLER MALTEPE İST\", \"coordinate\": [40.93742235769825, 29.141501285893472]},\n",
    "    {\"name\": \"MJET FINDIKLI MALTEPE\", \"coordinate\": [40.969187532857674, 29.12345584823173]},\n",
    "    {\"name\": \"MJET NİSH AVLU MALTEPE\", \"coordinate\": [40.944371636564995, 29.15901126487112]},\n",
    "    {\"name\": \"MJET FİRUZ ÇIKMAZI MALTEPE İST\", \"coordinate\": [40.94320780411222, 29.144398997022627]},\n",
    "    {\"name\": \"MJET ALTINTEPE İSTANBUL\", \"coordinate\": [40.9527089740197, 29.097007129763984]},\n",
    "    {\"name\": \"MJET KÜÇÜKYALI 63\", \"coordinate\": [40.94923165010923, 29.10590466959333]},\n",
    "    {\"name\": \"MJET KÜÇÜKYALI PO İSTASYON\", \"coordinate\": [40.94791709562063, 29.10654747189149]},\n",
    "    {\"name\": \"MJET İDEALTEPE CADDE İSTANBUL\", \"coordinate\": [40.938185139926404, 29.11945265477902]},\n",
    "    {\"name\": \"MJET ORHANGAZİ CADDESİ MALTEPE\", \"coordinate\": [40.92147188412524, 29.148882922715064]},\n",
    "    {\"name\": \"MJET GİRNE MAHALLESİ MALTEPE\", \"coordinate\": [40.94104461467149, 29.14056061182688]},\n",
    "    {\"name\": \"MJET MALTEPE NEVADA\", \"coordinate\": [40.936220953009226, 29.125270928031444]},\n",
    "    {\"name\": \"MJET NİSH ADALAR\", \"coordinate\": [40.9442638911282, 29.159328090876457]},\n",
    "    {\"name\": \"MJET FUAYE PO\", \"coordinate\": [40.95051052069334, 29.162685408802766]},\n",
    "    {\"name\": \"ALTINTEPE M MİGROS\", \"coordinate\": [40.95343875225428, 29.10032154626482]},\n",
    "    {\"name\": \"FUAYE İSTANBUL MMM MİGROS\", \"coordinate\": [40.950149181140475, 29.165442147825367]},\n",
    "    {\"name\": \"KÜÇÜKYALI İSTANBUL M MİGROS\", \"coordinate\": [40.944769195810856, 29.112264258198973]},\n",
    "    {\"name\": \"SÜREYYA PAŞA MMM MİGROS\", \"coordinate\": [40.925774074670755, 29.124492347070344]}\n",
    "]\n",
    "\n",
    "# Coordinates of A101 stores.\n",
    "a101_coordinates = [\n",
    "    {\"name\": \"Adalı\", \"coordinate\": [40.927394883085235, 29.129755968898213]},\n",
    "    {\"name\": \"Adatepe\", \"coordinate\": [40.945790719761604, 29.158524608036142]},\n",
    "    {\"name\": \"Ahmet Kutsi Tecer\", \"coordinate\": [40.94697264869294, 29.108992595588575]},\n",
    "    {\"name\": \"Akarsu\", \"coordinate\": [40.94320020106798, 29.14449386704606]},\n",
    "    {\"name\": \"Altayçeşme\", \"coordinate\": [40.93709684710951, 29.129451295588076]},\n",
    "    {\"name\": \"Atatürk\", \"coordinate\": [40.932473517602, 29.13659263658489]},\n",
    "    {\"name\": \"Ayerdem\", \"coordinate\": [40.93334053257737, 29.126336916594965]},\n",
    "    {\"name\": \"Ayhan\", \"coordinate\": [40.91748109292999, 29.150235387789607]},\n",
    "    {\"name\": \"Bağdat Park\", \"coordinate\": [40.91869123203214, 29.142348945765892]},\n",
    "    {\"name\": \"Bağlarbaşı\", \"coordinate\": [40.92390667555307, 29.135720080242788]},\n",
    "    {\"name\": \"Başıbüyük\", \"coordinate\": [40.95806043821966, 29.147749778886645]},\n",
    "    {\"name\": \"Bülbül\", \"coordinate\": [40.945248349238604, 29.121603422571827]},\n",
    "    {\"name\": \"Büyükbakkalköy\", \"coordinate\": [40.97052190607659, 29.198820234230894]},\n",
    "    {\"name\": \"Camialtı\", \"coordinate\": [40.958074773304325, 29.147542257606666]},\n",
    "    {\"name\": \"Canan\", \"coordinate\": [40.93999089666084, 29.151950365579967]},\n",
    "    {\"name\": \"Değirmenyolu\", \"coordinate\": [40.95442013315046, 29.101123215161365]},\n",
    "    {\"name\": \"Doğuşkent\", \"coordinate\": [40.93947090004343, 29.139418992788137]},\n",
    "    {\"name\": \"Dragos\", \"coordinate\": [40.91728899109436, 29.144277700000487]},\n",
    "    {\"name\": \"Efe Boz\", \"coordinate\": [40.93624733683455, 29.133488717904036]},\n",
    "    {\"name\": \"Elifli\", \"coordinate\": [40.93952567986965, 29.139381265431897]},\n",
    "    {\"name\": \"Ertuğrul Gazi\", \"coordinate\": [40.948470330387245, 29.1547878715784]},\n",
    "    {\"name\": \"Eski Bağdat\", \"coordinate\": [40.94702549200248, 29.109547693411244]},\n",
    "    {\"name\": \"Evren\", \"coordinate\": [40.97198499803409, 29.130256420815687]},\n",
    "    {\"name\": \"Fatih\", \"coordinate\": [40.92046478730853, 29.147404819387035]},\n",
    "    {\"name\": \"Figen\", \"coordinate\": [40.92615799253096, 29.14552500589081]},\n",
    "    {\"name\": \"Filiz\", \"coordinate\": [40.936578426258606, 29.14713455596701]},\n",
    "    {\"name\": \"Fındıklı\", \"coordinate\": [40.971202286232355, 29.135924803001316]},\n",
    "    {\"name\": \"Girne\", \"coordinate\": [40.943493943193914, 29.14495179745375]},\n",
    "    {\"name\": \"Grand House\", \"coordinate\": [40.923046846303116, 29.131475958484746]},\n",
    "    {\"name\": \"Gül\", \"coordinate\": [40.95218713357522, 29.10994516390435]},\n",
    "    {\"name\": \"Gülsuyu\", \"coordinate\": [40.92764419655678, 29.15696404057653]},\n",
    "    {\"name\": \"Gülyolu\", \"coordinate\": [40.92485574587402, 29.14088192613519]},\n",
    "    {\"name\": \"Güneşlik\", \"coordinate\": [40.922768910478915, 29.168870251895438]},\n",
    "    {\"name\": \"Handegül\", \"coordinate\": [40.94234542075043, 29.14945903212188]},\n",
    "    {\"name\": \"Hanımeli\", \"coordinate\": [40.93781973383071, 29.145038866751978]},\n",
    "    {\"name\": \"Heykel\", \"coordinate\": [40.931897227392454, 29.16420758354888]},\n",
    "    {\"name\": \"Kadir Has\", \"coordinate\": [40.94368194803579, 29.117591299214254]},\n",
    "    {\"name\": \"Kartal\", \"coordinate\": [40.93654913833068, 29.14726759744085]},\n",
    "    {\"name\": \"Kavaklıbayır\", \"coordinate\": [40.96668135619129, 29.114802774304895]},\n",
    "    {\"name\": \"Kooperatif\", \"coordinate\": [40.928863160423774, 29.14173620789344]},\n",
    "    {\"name\": \"Küçükyalı\", \"coordinate\": [40.93234703451013, 29.136646549836268]},\n",
    "    {\"name\": \"Kılavuzçayırı\", \"coordinate\": [40.95238151964869, 29.10986665140849]},\n",
    "    {\"name\": \"Kırlangıç\", \"coordinate\": [40.92722413852877, 29.133725080243018]},\n",
    "    {\"name\": \"Kırçiçeği\", \"coordinate\": [40.950434119475744, 29.127854717295303]},\n",
    "    {\"name\": \"Madenci\", \"coordinate\": [40.94032453090845, 29.14242820164443]},\n",
    "    {\"name\": \"Maltepe\", \"coordinate\": [40.92862045414734, 29.134665477144317]},\n",
    "    {\"name\": \"Mavıevler\", \"coordinate\": [40.946097556545276, 29.12880362390243]},\n",
    "    {\"name\": \"Menekşeci Darkstore\", \"coordinate\": [40.97140661473956, 29.133924370173283]},\n",
    "    {\"name\": \"Mercan\", \"coordinate\": [40.97143901739909, 29.134138946895533]},\n",
    "    {\"name\": \"Namık Kemal\", \"coordinate\": [40.93782327708093, 29.12133876675202]},\n",
    "    {\"name\": \"Nedim Özpolat\", \"coordinate\": [40.91918156355658, 29.131472337914726]},\n",
    "    {\"name\": \"Nil Caddesı\", \"coordinate\": [40.94123489075919, 29.153956025232937]},\n",
    "    {\"name\": \"Nish Adalar\", \"coordinate\": [40.94683712314109, 29.16719959558862]},\n",
    "    {\"name\": \"Orhangazi\", \"coordinate\": [40.920479325615176, 29.14735552723237]},\n",
    "    {\"name\": \"Orkide\", \"coordinate\": [40.92358760959293, 29.14591311378964]},\n",
    "    {\"name\": \"Ortanca\", \"coordinate\": [40.93233737572602, 29.164425964993736]},\n",
    "    {\"name\": \"Palmiye\", \"coordinate\": [40.97043908018438, 29.130019595590085]},\n",
    "    {\"name\": \"Piri Reis\", \"coordinate\": [40.91708383018474, 29.143594824422983]},\n",
    "    {\"name\": \"Preveze\", \"coordinate\": [40.94865312002092, 29.12871766675268]},\n",
    "    {\"name\": \"Ritim İstanbul\", \"coordinate\": [40.92122786710252, 29.157222156156422]},\n",
    "    {\"name\": \"Sahil\", \"coordinate\": [40.919270134807334, 29.131550271622423]},\n",
    "    {\"name\": \"Saray Maltepe\", \"coordinate\": [40.94276202024538, 29.114332385182973]},\n",
    "    {\"name\": \"Sarmaşık\", \"coordinate\": [40.97197054979308, 29.130265509192995]},\n",
    "    {\"name\": \"Seyitağa\", \"coordinate\": [40.96895696591541, 29.123756171008925]},\n",
    "    {\"name\": \"Seyrantepe\", \"coordinate\": [40.94768409358067, 29.166132798526473]},\n",
    "    {\"name\": \"Sulhi Dönmezer\", \"coordinate\": [40.930277200380615, 29.133284555638674]},\n",
    "    {\"name\": \"Sırmakeş\", \"coordinate\": [40.9396458282932, 29.1528508161723]},\n",
    "    {\"name\": \"Talatpaşa\", \"coordinate\": [40.9185783171644, 29.151399680297757]},\n",
    "    {\"name\": \"Toros\", \"coordinate\": [40.91718960109349, 29.14424450598503]},\n",
    "    {\"name\": \"Tülin\", \"coordinate\": [40.93491750586262, 29.148000761384083]},\n",
    "    {\"name\": \"Varna Maltepe\", \"coordinate\": [40.93360061298113, 29.133128870889713]},\n",
    "    {\"name\": \"Yeni Hancıoğlu\", \"coordinate\": [40.97002274280754, 29.140095813262924]},\n",
    "    {\"name\": \"Yeni Selvi\", \"coordinate\": [40.96915224060489, 29.127712327367597]},\n",
    "    {\"name\": \"Yeni Selçukbey\", \"coordinate\": [40.95041177110291, 29.127988561740242]},\n",
    "    {\"name\": \"Yeşiltepe\", \"coordinate\": [40.93976307558044, 29.11683454795809]},\n",
    "    {\"name\": \"Yüzevler\", \"coordinate\": [40.93410039239821, 29.12622891093225]},\n",
    "    {\"name\": \"Yıldırım\", \"coordinate\": [40.92787699876612, 29.15715151412576]},\n",
    "    {\"name\": \"Zencefıl\", \"coordinate\": [40.92719657520457, 29.16578829373469]},\n",
    "    {\"name\": \"Zuhal\", \"coordinate\": [40.91765828300148, 29.154259993734073]},\n",
    "    {\"name\": \"Zümrüt Evler\", \"coordinate\": [40.93969573233883, 29.117204716626933]},\n",
    "    {\"name\": \"Çamlı E5\", \"coordinate\": [40.93965706296123, 29.133351893735465]},\n",
    "    {\"name\": \"Çağla\", \"coordinate\": [40.947899653357794, 29.16649500612658]},\n",
    "    {\"name\": \"Çetin\", \"coordinate\": [40.94873403528536, 29.108871445617062]},\n",
    "    {\"name\": \"Çınar Maltepe\", \"coordinate\": [40.947581725490295, 29.109043179708422]},\n",
    "    {\"name\": \"Özmen\", \"coordinate\": [40.947855637118835, 29.108184945533097]},\n",
    "    {\"name\": \"İdealtepe\", \"coordinate\": [40.93946988115979, 29.117319572778445]}\n",
    "]\n",
    "\n",
    "# Coordinates of BIM stores.\n",
    "bim_coordinates = [\n",
    "    {\"name\": \"5 ADA MALTEPE\", \"coordinate\": [40.94386611375143, 29.1593275547878]},\n",
    "    {\"name\": \"50. YIL / MALTEPE\", \"coordinate\": [40.94170836109047, 29.125923317801558]},\n",
    "    {\"name\": \"ADATEPE / MALTEPE\", \"coordinate\": [40.934796487365354, 29.12198313146719]},\n",
    "    {\"name\": \"ALTINTEPE / MALTEPE\", \"coordinate\": [40.95369322987723, 29.103950633501157]},\n",
    "    {\"name\": \"ATAMAN /MALTEPE\", \"coordinate\": [40.96905938171349, 29.13207767054535]},\n",
    "    {\"name\": \"AYDINEVLER / MALTEPE\", \"coordinate\": [40.94985677674711, 29.12786684694814]},\n",
    "    {\"name\": \"BAĞDAT /MALTEPE\", \"coordinate\": [40.949654109509304, 29.10452194539834]},\n",
    "    {\"name\": \"BARIŞ / MALTEPE\", \"coordinate\": [40.93989783562922, 29.154892719399843]},\n",
    "    {\"name\": \"BAŞAK / MALTEPE\", \"coordinate\": [40.94800497158564, 29.11417993706625]},\n",
    "    {\"name\": \"BAŞARAN / MALTEPE\", \"coordinate\": [40.93299949439397, 29.151859974628895]},\n",
    "    {\"name\": \"BAŞIBÜYÜK / MALTEPE\", \"coordinate\": [40.95724604212229, 29.146871673430965]},\n",
    "    {\"name\": \"BAŞIBÜYÜK /MALTEPE\", \"coordinate\": [40.97296800999857, 29.14446503813377]},\n",
    "    {\"name\": \"BEGONYA / MALTEPE\", \"coordinate\": [40.93882155180379, 29.12830015179489]},\n",
    "    {\"name\": \"BEŞEVLER / MALTEPE\", \"coordinate\": [40.92524624311455, 29.13240108769613]},\n",
    "    {\"name\": \"BÜYÜKTUR /MALTEPE\", \"coordinate\": [40.93784048147304, 29.11952163506918]},\n",
    "    {\"name\": \"CADDE YÜZEVLER / MALTEPE\", \"coordinate\": [40.930324252671795, 29.129116939058743]},\n",
    "    {\"name\": \"ÇAMLIK / MALTEPE\", \"coordinate\": [40.94306827512642, 29.14447439353678]},\n",
    "    {\"name\": \"ÇARŞI / MALTEPE\", \"coordinate\": [40.92526790248133, 29.13240319983509]},\n",
    "    {\"name\": \"ÇINAR / MALTEPE\", \"coordinate\": [40.96856136703116, 29.140070293003298]},\n",
    "    {\"name\": \"DEĞİRMENYOLU /MALTEPE\", \"coordinate\": [40.95450431329372, 29.101147948094518]},\n",
    "    {\"name\": \"DENİZCİLER / MALTEPE\", \"coordinate\": [40.92680486970823, 29.144634970990133]},\n",
    "    {\"name\": \"DOĞUŞKENT / MALTEPE\", \"coordinate\": [40.938922039048016, 29.140371114762267]},\n",
    "    {\"name\": \"DRAGOS / KARTAL\", \"coordinate\": [40.91148500049741, 29.152348242954268]},\n",
    "    {\"name\": \"EFEBOZ /MALTEPE\", \"coordinate\": [40.935995323794735, 29.13252067830462]},\n",
    "    {\"name\": \"EMEK /MALTEPE\", \"coordinate\": [40.950260769456435, 29.11864830321464]},\n",
    "    {\"name\": \"ERCİYES / MALTEPE\", \"coordinate\": [40.91571477764781, 29.14808064302144]},\n",
    "    {\"name\": \"ESENKENT / MALTEPE\", \"coordinate\": [40.923207082700124, 29.16864021452266]},\n",
    "    {\"name\": \"EVREN CAD. / MALTEPE\", \"coordinate\": [40.969633352419756, 29.123062987094592]},\n",
    "    {\"name\": \"FERAH / MALTEPE\", \"coordinate\": [40.942204568009444, 29.153465990089504]},\n",
    "    {\"name\": \"FEYZULLAH / MALTEPE\", \"coordinate\": [40.92376657950671, 29.129281481374232]},\n",
    "    {\"name\": \"GAZİ / MALTEPE\", \"coordinate\": [40.97125053840908, 29.132820300844788]},\n",
    "    {\"name\": \"GİRNE / MALTEPE\", \"coordinate\": [40.94339937502391, 29.13979040766674]},\n",
    "    {\"name\": \"GÜLENSU / MALTEPE\", \"coordinate\": [40.933430436738576, 29.16353932315151]},\n",
    "    {\"name\": \"GÜLSUYU / MALTEPE\", \"coordinate\": [40.92727775602385, 29.15667057051255]},\n",
    "    {\"name\": \"GÜLYOLU / MALTEPE\", \"coordinate\": [40.92398979400527, 29.14078350068368]},\n",
    "    {\"name\": \"HANCIOĞLU / MALTEPE\", \"coordinate\": [40.96908529499158, 29.13207796610294]},\n",
    "    {\"name\": \"HANIMELİ / MALTEPE\", \"coordinate\": [40.93746760608058, 29.145266731005083]},\n",
    "    {\"name\": \"HASTANE / MALTEPE\", \"coordinate\": [40.921854070921945, 29.13836770942411]},\n",
    "    {\"name\": \"IŞIKLAR / MALTEPE\", \"coordinate\": [40.93265015812681, 29.136805254833604]},\n",
    "    {\"name\": \"İDEALTEPE / MALTEPE\", \"coordinate\": [40.94253446386219, 29.114689753785473]},\n",
    "    {\"name\": \"İNCEYOL / MALTEPE\", \"coordinate\": [40.954761889605436, 29.1117688779914]},\n",
    "    {\"name\": \"KADRİYE HATUN / MALTEPE\", \"coordinate\": [40.94533439803117, 29.123663089916683]},\n",
    "    {\"name\": \"KANİPAŞA MALTEPE\", \"coordinate\": [40.930472920695145, 29.16921541768973]},\n",
    "    {\"name\": \"KARACA / MALTEPE\", \"coordinate\": [40.94791098129229, 29.15396458037732]},\n",
    "    {\"name\": \"KARADENİZ / MALTEPE\", \"coordinate\": [40.94811934292254, 29.13046067218526]},\n",
    "    {\"name\": \"KARANFİL / MALTEPE\", \"coordinate\": [40.94006352033881, 29.153250526834565]},\n",
    "    {\"name\": \"KARAYOLLARI / MALTEPE\", \"coordinate\": [40.94634248278612, 29.118673632713776]},\n",
    "    {\"name\": \"KARDEŞ / MALTEPE\", \"coordinate\": [40.92130331815685, 29.15163275563329]},\n",
    "    {\"name\": \"KENTPLUS /MALTEPE\", \"coordinate\": [40.96776727420696, 29.125242132082306]},\n",
    "    {\"name\": \"KIRÇİÇEĞİ / MALTEPE\", \"coordinate\": [40.950155909583316, 29.12333873804331]},\n",
    "    {\"name\": \"KIZILAY /MALTEPE\", \"coordinate\": [40.93495294906234, 29.123986474315767]},\n",
    "    {\"name\": \"KOOPERATİF / MALTEPE\", \"coordinate\": [40.92864245147052, 29.141128058917342]},\n",
    "    {\"name\": \"KÜÇÜKYALI / MALTEPE\", \"coordinate\": [40.946811323681494, 29.109222604389288]},\n",
    "    {\"name\": \"MALTEPE / İSTANBUL\", \"coordinate\": [40.927311770690615, 29.130783941688712]},\n",
    "    {\"name\": \"MENDERES/MALTEPE\", \"coordinate\": [40.942094740070374, 29.146026787432554]},\n",
    "    {\"name\": \"MERCAN/MALTEPE\", \"coordinate\": [40.935869299337135, 29.14681401412792]},\n",
    "    {\"name\": \"NADİRE / MALTEPE\", \"coordinate\": [40.924720417049784, 29.16093599314204]},\n",
    "    {\"name\": \"OMEGA / MALTEPE\", \"coordinate\": [40.944022249043236, 29.13390859205389]},\n",
    "    {\"name\": \"ORHANGAZİ / MALTEPE\", \"coordinate\": [40.91929515747133, 29.14664457386512]},\n",
    "    {\"name\": \"ORTAK / MALTEPE\", \"coordinate\": [40.932519065593176, 29.134445708448418]},\n",
    "    {\"name\": \"ÖZCAN / MALTEPE\", \"coordinate\": [40.92008626106238, 29.139837187528876]},\n",
    "    {\"name\": \"SAĞLIK / MALTEPE\", \"coordinate\": [40.93046024955185, 29.134863577367213]},\n",
    "    {\"name\": \"SAHİL / MALTEPE\", \"coordinate\": [40.91805183551388, 29.13426704603057]},\n",
    "    {\"name\": \"SEVGİ / MALTEPE\", \"coordinate\": [40.91765418027347, 29.14722682004058]},\n",
    "    {\"name\": \"SÜMBÜL / MALTEPE\", \"coordinate\": [40.970288026441445, 29.124820764698743]},\n",
    "    {\"name\": \"SÜREYYA PAŞA / MALTEPE\", \"coordinate\": [40.95437581782561, 29.14423945532768]},\n",
    "    {\"name\": \"TALATPAŞA / MALTEPE\", \"coordinate\": [40.91796385005236, 29.150548171811565]},\n",
    "    {\"name\": \"TUGAYYOLU / MALTEPE\", \"coordinate\": [40.918759046754715, 29.155692523034652]},\n",
    "    {\"name\": \"TURHAN / MALTEPE\", \"coordinate\": [40.93667083938017, 29.1262822698654]},\n",
    "    {\"name\": \"TÜLİN / MALTEPE\", \"coordinate\": [40.93600401826493, 29.148807687408983]},\n",
    "    {\"name\": \"YASEMİN / MALTEPE\", \"coordinate\": [40.97221929574175, 29.143452562135174]},\n",
    "    {\"name\": \"YAVUZ SELİM / KARTAL\", \"coordinate\": [40.91875168842416, 29.14293912954519]},\n",
    "    {\"name\": \"YENİ FINDIKLII /MALTEPE\", \"coordinate\": [40.97166185657184, 29.13618596624144]},\n",
    "    {\"name\": \"YENİYOL MALTEPE\", \"coordinate\": [40.92316922414561, 29.135729184801686]},\n",
    "    {\"name\": \"ZÜMRÜTEVLER / MALTEPE\", \"coordinate\": [40.94241621779482, 29.14991393271687]}\n",
    "]\n",
    "\n",
    "# Coordinates of ŞOK stores.\n",
    "sok_coordinates = [\n",
    "    {\"name\": \"İSTANBUL KÜÇÜKYALI KILAVUZ ÇAYIRI MAĞAZA\", \"coordinate\": [40.952189, 29.108784]},\n",
    "    {\"name\": \"İSTANBUL ALTINTEPE MAĞAZASI\", \"coordinate\": [40.954355, 29.103107]},\n",
    "    {\"name\": \"İSTANBUL MALTEPE KAMPÜS MAĞAZASI\", \"coordinate\": [40.959541, 29.192393]},\n",
    "    {\"name\": \"İSTANBUL İÇERENKÖY FINDIKLI MAĞAZASI\", \"coordinate\": [40.969200, 29.131538]},\n",
    "    {\"name\": \"İSTANBUL BAŞIBÜYÜK CADDE MAĞAZASI\", \"coordinate\": [40.941176, 29.140728]},\n",
    "    {\"name\": \"İSTANBUL MALTEPE TALATPAŞA MAĞAZASI\", \"coordinate\": [40.919074, 29.151436]},\n",
    "    {\"name\": \"İSTANBUL KARAYOLLARI 50.YIL PARKI MAĞAZASI\", \"coordinate\": [40.943955, 29.119734]},\n",
    "    {\"name\": \"İSTANBUL TEYFİK SAĞLAM MALTEPE MAĞAZASI\", \"coordinate\": [40.952918, 29.104535]},\n",
    "    {\"name\": \"İSTANBUL MEKTEP CD.MALTEPE MAĞAZASI\", \"coordinate\": [40.950262, 29.111703]},\n",
    "    {\"name\": \"İSTANBUL ALTAY MALTEPE MAĞAZASI\", \"coordinate\": [40.930548, 29.134566]},\n",
    "    {\"name\": \"İSTANBUL BAĞDATTEPE ALTINTEPE MAĞAZASI\", \"coordinate\": [40.952598, 29.100870]},\n",
    "    {\"name\": \"İSTANBUL MALTEPE YALI MAĞAZASI\", \"coordinate\": [40.926481, 29.152631]},\n",
    "    {\"name\": \"İSTANBUL ŞEHİT RIZA ESENKENT MAĞAZASI\", \"coordinate\": [40.923483, 29.165234]},\n",
    "    {\"name\": \"İSTANBUL İNCEYOL SK.ALTINTEPE MAĞAZASI\", \"coordinate\": [40.954505, 29.113231]},\n",
    "    {\"name\": \"İSTANBUL GALİPBEY CD.ALTINTEPE MAĞAZASI\", \"coordinate\": [40.955847, 29.107113]},\n",
    "    {\"name\": \"İSTANBUL ESENKENT MAĞAZASI\", \"coordinate\": [40.923551, 29.160437]},\n",
    "    {\"name\": \"İSTANBUL MALTEPE HANCIOĞLU\", \"coordinate\": [40.968649, 29.129436]},\n",
    "    {\"name\": \"İSTANBUL ÇINAR MAH.KÜÇÜKYALI MAĞAZASI\", \"coordinate\": [40.943042, 29.114093]},\n",
    "    {\"name\": \"İSTANBUL GİRNE MAHALLESİ ELİF SOKAK MAĞAZASI\", \"coordinate\": [40.926883, 29.128331]},\n",
    "    {\"name\": \"İSTANBUL SÜMEN SK.İDEALTEPE MAĞAZASI\", \"coordinate\": [40.952898, 29.096504]},\n",
    "    {\"name\": \"İSTANBUL MALTEPE KRİZANTEM MAĞAZASI\", \"coordinate\": [40.924982, 29.128816]},\n",
    "    {\"name\": \"İSTANBUL KÜÇÜKYALI ALTMIŞÜÇ MAĞAZASI\", \"coordinate\": [40.950446, 29.103232]},\n",
    "    {\"name\": \"İSTANBUL KÜÇÜKYALI ADİLE HANIM MAĞAZASI\", \"coordinate\": [40.949261, 29.115270]},\n",
    "    {\"name\": \"İSTANBUL ZÜMRÜTEVLER ERTUĞRUL SOKAK MAĞAZASI\", \"coordinate\": [40.934765, 29.148148]},\n",
    "    {\"name\": \"İSTANBUL MALTEPE İKİNCİ İLKOKUL CADDESİ MAĞAZASI\", \"coordinate\": [40.922134, 29.132185]},\n",
    "    {\"name\": \"İSTANBUL ZÜMRÜTEVLER TÜLİN CADDE MAĞAZASI\", \"coordinate\": [40.938321, 29.151346]},\n",
    "    {\"name\": \"İSTANBUL GÜLYOLU SK.MALTEPE MAĞAZASI\", \"coordinate\": [40.925132, 29.140962]},\n",
    "    {\"name\": \"İSTANBUL FINDIKLI ÇINAR CADDESİ MAĞAZASI\", \"coordinate\": [40.969513, 29.139731]},\n",
    "    {\"name\": \"İSTANBUL MALTEPE TEKEL BLOKLARI MAĞAZASI\", \"coordinate\": [40.932258, 29.134530]},\n",
    "    {\"name\": \"İSTANBUL ZÜMRÜTEVLER KALEYURT MAĞAZASI\", \"coordinate\": [40.947599, 29.153601]},\n",
    "    {\"name\": \"İSTANBUL MALTEPE YAVUZ SOKAK MAĞAZASI\", \"coordinate\": [40.920362, 29.144546]},\n",
    "    {\"name\": \"İSTANBUL ZÜMRÜT EVLER FİLİZ SOKAK MAĞAZASI\", \"coordinate\": [40.939159, 29.145238]},\n",
    "    {\"name\": \"MALTEPE TUGAY YOLU EMİR MAĞAZASI\", \"coordinate\": [40.921834, 29.156493]},\n",
    "    {\"name\": \"İSTANBUL MALTEPE ÇIRAK SOKAK MAĞAZASI\", \"coordinate\": [40.924587, 29.146540]},\n",
    "    {\"name\": \"MALTEPE EMEK CADDE MAĞAZASI\", \"coordinate\": [40.935522, 29.153134]},\n",
    "    {\"name\": \"İSTANBUL MALTEPE ADALI SOKAK MAĞAZASI\", \"coordinate\": [40.927510, 29.130667]},\n",
    "    {\"name\": \"ŞOK MİNİ-ZÜMRÜTEVLER MAĞAZASI\", \"coordinate\": [40.935045, 29.150609]},\n",
    "    {\"name\": \"MALTEPE FINDIKLI PALMİYE CADDESİ MAĞAZASI\", \"coordinate\": [40.971760, 29.130433]},\n",
    "    {\"name\": \"MALETEPE ŞEHİT HİKMET ALP CADDESİ MAĞAZASI\", \"coordinate\": [40.935099, 29.123247]},\n",
    "    {\"name\": \"İSTANBUL KÜÇÜKYALI POYRAZ SOKAK MAĞAZASI\", \"coordinate\": [40.947081, 29.130927]},\n",
    "    {\"name\": \"İSTANBUL MALTEPE BAŞIBÜYÜK YILDIZ SOK. MAĞAZASI\", \"coordinate\": [40.960123, 29.147977]},\n",
    "    {\"name\": \"ZÜMRÜTEVLER AKŞEMSETTİN CAD MAĞAZASI\", \"coordinate\": [40.936870, 29.146944]},\n",
    "    {\"name\": \"ŞOK MİNİ-YILMAZ2 MAĞAZASI\", \"coordinate\": [40.934241, 29.169088]},\n",
    "    {\"name\": \"İSTANBUL MALTEPE KADİR HAS CAD MAĞAZASI\", \"coordinate\": [40.942511, 29.115440]},\n",
    "    {\"name\": \"ŞOK MİNİ-ALTINTEPE MAĞAZASI\", \"coordinate\": [40.957461, 29.107904]},\n",
    "    {\"name\": \"İSTANBUL MALTEPE BAĞLARBAŞI İNÖNÜ CAD MAĞAZASI\", \"coordinate\": [40.926021, 29.139759]},\n",
    "    {\"name\": \"İSTANBUL ZÜMRÜTEVLER KARACA CAD MAĞAZASI\", \"coordinate\": [40.942940, 29.150493]},\n",
    "    {\"name\": \"İSTANBUL ALTINTEPE CİHADİYE CAD MAĞAZASI\", \"coordinate\": [40.957250, 29.109799]},\n",
    "    {\"name\": \"İSTANBUL FINDIKLI ATAMAN CAD MAĞAZASI\", \"coordinate\": [40.970875, 29.136299]},\n",
    "    {\"name\": \"ŞOKMİNİ-GALİPBEY MAĞAZASI\", \"coordinate\": [40.954035, 29.104301]},\n",
    "    {\"name\": \"ŞOKMİNİ-SERİN MAĞAZASI\", \"coordinate\": [40.970562, 29.133730]},\n",
    "    {\"name\": \"İSTANBUL MALTEPE ZÜMRÜTEVLER GİRNE CADDESİ MAĞAZASI\", \"coordinate\": [40.944261, 29.134404]},\n",
    "    {\"name\": \"ŞOKMİNİ-YEŞİM MAĞAZASI\", \"coordinate\": [40.972993, 29.139488]},\n",
    "    {\"name\": \"İSTANBUL KÜÇÜKYALI MUHSİNE ZEYNEP MAĞAZASI\", \"coordinate\": [40.949159, 29.109979]},\n",
    "    {\"name\": \"İSTANBUL İDEALTEPE SANİMALAZ MAĞAZASI\", \"coordinate\": [40.939697, 29.123696]},\n",
    "    {\"name\": \"İSTANBUL KÜÇÜKYALI MAĞAZASI\", \"coordinate\": [40.949145, 29.113653]},\n",
    "    {\"name\": \"SOK\", \"coordinate\": [40.921895, 29.140198]},\n",
    "    {\"name\": \"SOK\", \"coordinate\": [40.955561, 29.144312]},\n",
    "    {\"name\": \"SOK\", \"coordinate\": [40.929097, 29.124747]},\n",
    "    {\"name\": \"SOK\", \"coordinate\": [40.925507, 29.141474]},\n",
    "    {\"name\": \"SOK\", \"coordinate\": [40.927605, 29.157823]},\n",
    "    {\"name\": \"SOK\", \"coordinate\": [40.918120, 29.142264]},\n",
    "    {\"name\": \"SOK\", \"coordinate\": [40.930739, 29.128214]},\n",
    "    {\"name\": \"SOK\", \"coordinate\": [40.936377, 29.134379]},\n",
    "    {\"name\": \"SOK\", \"coordinate\": [40.922829, 29.134557]},\n",
    "    {\"name\": \"SOK\", \"coordinate\": [40.941625, 29.153924]},\n",
    "    {\"name\": \"SOK\", \"coordinate\": [40.965537, 29.122726]},\n",
    "    {\"name\": \"SOK\", \"coordinate\": [40.916711, 29.145928]},\n",
    "    {\"name\": \"SOK\", \"coordinate\": [40.971277, 29.128718]},\n",
    "    {\"name\": \"SOK\", \"coordinate\": [40.969552, 29.136297]},\n",
    "    {\"name\": \"SOK\", \"coordinate\": [40.970841, 29.129463]},\n",
    "    {\"name\": \"SOK\", \"coordinate\": [40.922590, 29.144178]},\n",
    "    {\"name\": \"SOK\", \"coordinate\": [40.932640, 29.138548]},\n",
    "    {\"name\": \"SOK\", \"coordinate\": [40.929145, 29.140261]},\n",
    "    {\"name\": \"SOK\", \"coordinate\": [40.947687, 29.113293]},\n",
    "    {\"name\": \"SOK\", \"coordinate\": [40.918976, 29.151566]},\n",
    "    {'name': 'SOK', 'coordinate': [40.945944, 29.119339]},\n",
    "    {'name': 'SOK', 'coordinate': [40.950443, 29.127770]},\n",
    "    {'name': 'SOK', 'coordinate': [40.950820, 29.110796]},\n",
    "    {'name': 'SOK', 'coordinate': [40.950602, 29.117542]},\n",
    "    {'name': 'SOK', 'coordinate': [40.968465, 29.123094]}\n",
    "]    "
   ],
   "metadata": {
    "collapsed": false,
    "ExecuteTime": {
     "end_time": "2024-03-19T20:56:31.365360Z",
     "start_time": "2024-03-19T20:56:31.324856Z"
    }
   },
   "id": "4193fcd9adc79c91",
   "execution_count": 225
  },
  {
   "cell_type": "code",
   "outputs": [],
   "source": [
    "# SOK DATAFRAME\n",
    "names = [coord['name'] for coord in sok_coordinates]\n",
    "coordinates = [coord['coordinate'] for coord in sok_coordinates]\n",
    "latitudes = [coord[0] for coord in coordinates]\n",
    "longitudes = [coord[1] for coord in coordinates]\n",
    "\n",
    "sok_df = pd.DataFrame({'Name': names, 'Latitude': latitudes, 'Longitude': longitudes})\n",
    "\n",
    "# BIM DATAFRAME\n",
    "names = [coord['name'] for coord in bim_coordinates]\n",
    "coordinates = [coord['coordinate'] for coord in bim_coordinates]\n",
    "latitudes = [coord[0] for coord in coordinates]\n",
    "longitudes = [coord[1] for coord in coordinates]\n",
    "\n",
    "bim_df = pd.DataFrame({'Name': names, 'Latitude': latitudes, 'Longitude': longitudes})\n",
    "\n",
    "# A101 DATAFRAME\n",
    "names = [coord['name'] for coord in a101_coordinates]\n",
    "coordinates = [coord['coordinate'] for coord in a101_coordinates]\n",
    "latitudes = [coord[0] for coord in coordinates]\n",
    "longitudes = [coord[1] for coord in coordinates]\n",
    "\n",
    "a101_df = pd.DataFrame({'Name': names, 'Latitude': latitudes, 'Longitude': longitudes})\n",
    "\n",
    "# MIGROS DATAFRAME\n",
    "names = [coord['name'] for coord in migros_coordinates]\n",
    "coordinates = [coord['coordinate'] for coord in migros_coordinates]\n",
    "latitudes = [coord[0] for coord in coordinates]\n",
    "longitudes = [coord[1] for coord in coordinates]\n",
    "\n",
    "migros_df = pd.DataFrame({'Name': names, 'Latitude': latitudes, 'Longitude': longitudes})"
   ],
   "metadata": {
    "collapsed": false,
    "ExecuteTime": {
     "end_time": "2024-03-19T20:59:47.815607Z",
     "start_time": "2024-03-19T20:59:47.808174Z"
    }
   },
   "id": "87234ba531352756",
   "execution_count": 230
  },
  {
   "cell_type": "code",
   "outputs": [],
   "source": [],
   "metadata": {
    "collapsed": false
   },
   "id": "5d2281b8b98beb82"
  }
 ],
 "metadata": {
  "kernelspec": {
   "display_name": "Python 3",
   "language": "python",
   "name": "python3"
  },
  "language_info": {
   "codemirror_mode": {
    "name": "ipython",
    "version": 2
   },
   "file_extension": ".py",
   "mimetype": "text/x-python",
   "name": "python",
   "nbconvert_exporter": "python",
   "pygments_lexer": "ipython2",
   "version": "2.7.6"
  }
 },
 "nbformat": 4,
 "nbformat_minor": 5
}
