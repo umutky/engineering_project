{
 "cells": [
  {
   "cell_type": "code",
   "outputs": [],
   "source": [
    "import pandas as pd\n",
    "import numpy as np\n",
    "import matplotlib.pyplot as plt\n",
    "import seaborn as sns\n",
    "import folium\n",
    "from scipy.stats import gaussian_kde\n",
    "from geopy.distance import geodesic\n",
    "\n",
    "import warnings\n",
    "warnings.filterwarnings('ignore')"
   ],
   "metadata": {
    "collapsed": false,
    "ExecuteTime": {
     "end_time": "2024-03-16T09:34:51.818149Z",
     "start_time": "2024-03-16T09:34:51.540619Z"
    }
   },
   "id": "3280fc031ac35c89",
   "execution_count": 2
  },
  {
   "cell_type": "code",
   "outputs": [],
   "source": [
    "maltepe_sinir_koordinatlar = [[40.95202948 , 29.09540176], [40.97289962 , 29.12664413], [40.98106441 , 29.19805527], [40.94606537 , 29.21590805],\n",
    "                              [40.92168470 , 29.20028687], [40.90702604 , 29.13848877]]\n",
    "\n",
    "mahalle_adlari = ['Altaycesme', 'Altintepe', 'Aydinevler', \n",
    "                  'Baglarbasi', 'Basibuyuk', 'Buyukbakkalkoy', \n",
    "                  'Cevizli', 'Cinar', 'Esenkent',\n",
    "                  'Feyzullah', 'Findikli', 'Girne', \n",
    "                  'Gulensu', 'Gulsuyu', 'Idealtepe', \n",
    "                  'Kucukyali', 'Yali', 'Zumrutevler']\n",
    "\n",
    "mahalle_koordinat = [[40.931350295726496, 29.13004580288397], [40.951584527393095, 29.101205138161465], [40.949297321468165, 29.12324802217451],\n",
    "                     [40.92595977247705, 29.13433467791579], [40.95880863043053, 29.148363197540196], [40.97087919644714, 29.198312937578116],\n",
    "                     [40.911606866191114, 29.168643075674318], [40.943499668859246, 29.11454095288986], [40.9270800114825, 29.167683738766232],\n",
    "                     [40.92721565415718, 29.127159112869276], [40.968085684760894, 29.12477918026858], [40.94245188368451, 29.141611465806605],\n",
    "                     [40.93535438411732, 29.162024095321975], [40.928698897558306, 29.155057024109794], [40.94104705315858, 29.121812032086222],\n",
    "                     [40.94923770098426, 29.11460999191842], [40.92105781147672, 29.12940074262555], [40.9435523034861, 29.15037334792318]]\n",
    "\n",
    "mahalle_ve_koordinat = pd.DataFrame({'name' : mahalle_adlari, 'coordinate': mahalle_koordinat})\n",
    "\n",
    "population = np.array([32664, 31993,20761,42683,21951,11285,40606,20722,18977,20397,64987,19196,14403,15097,24970,26086,13100,88666])\n",
    "# bu yok ! area = np.array([1.30, 1.0, 1.40, 1.60, 10.20, 21.70, 2.20, 1.0, 1.20, 0.81, 1.20, 0.77, 0.90, 0.91, 1.30, 1.0, 2.30, 3.20])\n",
    "# bu yok ! population_density = list(population/area)\n",
    "socioeconomic_level = [8, 10, 8, 8, 6, 6, 8, 10, 7, 10, 6, 8, 3, 5, 10, 8, 10, 7]\n",
    "\n",
    "neigh_coords = [\n",
    "    {\n",
    "    'name': mahalle_adlari,\n",
    "    'coordinate': mahalle_koordinat,\n",
    "    'population': population,\n",
    "    'socioeconomic_level': socioeconomic_level\n",
    "    }\n",
    "]"
   ],
   "metadata": {
    "collapsed": false,
    "ExecuteTime": {
     "end_time": "2024-03-16T10:02:38.650515Z",
     "start_time": "2024-03-16T10:02:38.642701Z"
    }
   },
   "id": "dd5b0afac7fd30c6",
   "execution_count": 29
  },
  {
   "cell_type": "code",
   "outputs": [],
   "source": [],
   "metadata": {
    "collapsed": false
   },
   "id": "565726564e2a1f51"
  }
 ],
 "metadata": {
  "kernelspec": {
   "display_name": "Python 3",
   "language": "python",
   "name": "python3"
  },
  "language_info": {
   "codemirror_mode": {
    "name": "ipython",
    "version": 2
   },
   "file_extension": ".py",
   "mimetype": "text/x-python",
   "name": "python",
   "nbconvert_exporter": "python",
   "pygments_lexer": "ipython2",
   "version": "2.7.6"
  }
 },
 "nbformat": 4,
 "nbformat_minor": 5
}
